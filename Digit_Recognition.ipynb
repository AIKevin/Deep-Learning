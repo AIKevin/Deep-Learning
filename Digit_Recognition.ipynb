{
  "nbformat": 4,
  "nbformat_minor": 0,
  "metadata": {
    "colab": {
      "name": "Digit Recognition.ipynb",
      "version": "0.3.2",
      "provenance": [],
      "collapsed_sections": [],
      "include_colab_link": true
    },
    "kernelspec": {
      "name": "python3",
      "display_name": "Python 3"
    },
    "accelerator": "GPU"
  },
  "cells": [
    {
      "cell_type": "markdown",
      "metadata": {
        "id": "view-in-github",
        "colab_type": "text"
      },
      "source": [
        "<a href=\"https://colab.research.google.com/github/AIKevin/Deep-Learning/blob/master/Digit_Recognition.ipynb\" target=\"_parent\"><img src=\"https://colab.research.google.com/assets/colab-badge.svg\" alt=\"Open In Colab\"/></a>"
      ]
    },
    {
      "metadata": {
        "id": "1ZdFtgtMEQJM",
        "colab_type": "text"
      },
      "cell_type": "markdown",
      "source": [
        "# DIGIT RECOGNITION MODEL\n",
        "\n",
        "Abstract: \n",
        "Here is a Digit Recognition Model which uses Deep Learning Neural Networks to read human-written digits.\n",
        "It is a classifier which learns features to predict what is written using Convolutional Neural Networks.\n",
        "\n"
      ]
    },
    {
      "metadata": {
        "id": "12oVTHZLF8-Q",
        "colab_type": "text"
      },
      "cell_type": "markdown",
      "source": [
        "##Pytorch Setup \n",
        "Not useful for this application though"
      ]
    },
    {
      "metadata": {
        "id": "gAd2XLSE2eKV",
        "colab_type": "code",
        "colab": {
          "base_uri": "https://localhost:8080/",
          "height": 118
        },
        "outputId": "1e1a3e54-e0cf-4cbd-ad65-4ad862235d2b"
      },
      "cell_type": "code",
      "source": [
        "!pip install torchvision\n",
        "!pip install torch"
      ],
      "execution_count": 47,
      "outputs": [
        {
          "output_type": "stream",
          "text": [
            "Requirement already satisfied: torchvision in /usr/local/lib/python3.6/dist-packages (0.2.1)\n",
            "Requirement already satisfied: numpy in /usr/local/lib/python3.6/dist-packages (from torchvision) (1.14.6)\n",
            "Requirement already satisfied: torch in /usr/local/lib/python3.6/dist-packages (from torchvision) (0.4.1)\n",
            "Requirement already satisfied: pillow>=4.1.1 in /usr/local/lib/python3.6/dist-packages (from torchvision) (5.3.0)\n",
            "Requirement already satisfied: six in /usr/local/lib/python3.6/dist-packages (from torchvision) (1.11.0)\n",
            "Requirement already satisfied: torch in /usr/local/lib/python3.6/dist-packages (0.4.1)\n"
          ],
          "name": "stdout"
        }
      ]
    },
    {
      "metadata": {
        "id": "k0BMPOjtEwiR",
        "colab_type": "text"
      },
      "cell_type": "markdown",
      "source": [
        "##Library Importations"
      ]
    },
    {
      "metadata": {
        "id": "OBYFifQa3E6M",
        "colab_type": "code",
        "colab": {}
      },
      "cell_type": "code",
      "source": [
        "import tensorflow as tf\n",
        "import torch as pt\n",
        "import torch.nn as nn\n",
        "import torch.nn.functional as f\n",
        "import math\n",
        "import matplotlib.pyplot as pp\n",
        "import pandas as pd\n",
        "from sklearn.tree import DecisionTreeClassifier\n"
      ],
      "execution_count": 0,
      "outputs": []
    },
    {
      "metadata": {
        "id": "sX63F60yFJE2",
        "colab_type": "text"
      },
      "cell_type": "markdown",
      "source": [
        "##Driver Mounting to get a local dataset"
      ]
    },
    {
      "metadata": {
        "id": "7_7O-RuhFevQ",
        "colab_type": "text"
      },
      "cell_type": "markdown",
      "source": [
        "### Load the Drive helper and mount \n",
        "This will prompt for authorization.\n",
        " "
      ]
    },
    {
      "metadata": {
        "id": "ntGkv7Aq3F0A",
        "colab_type": "code",
        "colab": {
          "base_uri": "https://localhost:8080/",
          "height": 34
        },
        "outputId": "b9c97083-3e43-4222-89ed-04c500873d62"
      },
      "cell_type": "code",
      "source": [
        "from google.colab import drive\n",
        "drive.mount('/content/drive')"
      ],
      "execution_count": 49,
      "outputs": [
        {
          "output_type": "stream",
          "text": [
            "Drive already mounted at /content/drive; to attempt to forcibly remount, call drive.mount(\"/content/drive\", force_remount=True).\n"
          ],
          "name": "stdout"
        }
      ]
    },
    {
      "metadata": {
        "id": "n25-4FVGGYB9",
        "colab_type": "text"
      },
      "cell_type": "markdown",
      "source": [
        "###Digit Recognition Model"
      ]
    },
    {
      "metadata": {
        "id": "k8mVpy_tH7vu",
        "colab_type": "text"
      },
      "cell_type": "markdown",
      "source": [
        "**Summary**\n",
        "1. Data and Architecture Loading\n",
        "2. Splitting Dataset\n",
        "3. Learning Parameters\n",
        "4. Printing some results"
      ]
    },
    {
      "metadata": {
        "id": "8t3GJB4-EEsA",
        "colab_type": "code",
        "colab": {}
      },
      "cell_type": "code",
      "source": [
        ""
      ],
      "execution_count": 0,
      "outputs": []
    },
    {
      "metadata": {
        "id": "riW5sRG19m-8",
        "colab_type": "code",
        "colab": {
          "base_uri": "https://localhost:8080/",
          "height": 1058
        },
        "outputId": "b86523a0-77ea-4b37-df27-152377afa15c"
      },
      "cell_type": "code",
      "source": [
        "#1. Data and Architecture Loading\n",
        "data=pd.read_csv(\"/content/drive/My Drive/Colab Notebooks/train.csv\").values\n",
        "clf=DecisionTreeClassifier()\n",
        "\n",
        "#2. Splitting Dataset\n",
        "\n",
        "# trainnig dataset\n",
        "xtrain=data[0:21000, 1:]\n",
        "train_label=data[0:21000, 0]\n",
        "\n",
        "# testing data\n",
        "xtest=data[21000:, 1:]\n",
        "actual_label=data[21000, 0]\n",
        "\n",
        "#3. Learning parameters\n",
        "clf.fit(xtrain, train_label)\n",
        "\n",
        "#4. Printing some results\n",
        "d=xtest[10]\n",
        "d.shape=(28, 28)\n",
        "pp.imshow(255-d, cmap='gray')\n",
        "print(clf.predict([xtest[10]]))\n",
        "pp.show()\n",
        "d=xtest[100]\n",
        "d.shape=(28, 28)\n",
        "pp.imshow(255-d, cmap='gray')\n",
        "print(clf.predict([xtest[100]]))\n",
        "pp.show()\n",
        "d=xtest[12]\n",
        "d.shape=(28, 28)\n",
        "pp.imshow(255-d, cmap='gray')\n",
        "print(clf.predict([xtest[12]]))\n",
        "pp.show()\n"
      ],
      "execution_count": 50,
      "outputs": [
        {
          "output_type": "stream",
          "text": [
            "[2]\n"
          ],
          "name": "stdout"
        },
        {
          "output_type": "display_data",
          "data": {
            "image/png": "[encoded data removed]",
            "text/plain": [
              "<matplotlib.figure.Figure at 0x7f9585ec0ac8>"
            ]
          },
          "metadata": {
            "tags": []
          }
        },
        {
          "output_type": "stream",
          "text": [
            "[1]\n"
          ],
          "name": "stdout"
        },
        {
          "output_type": "display_data",
          "data": {
            "image/png": "[encoded data removed]",
            "text/plain": [
              "<matplotlib.figure.Figure at 0x7f9585d6b588>"
            ]
          },
          "metadata": {
            "tags": []
          }
        },
        {
          "output_type": "stream",
          "text": [
            "[0]\n"
          ],
          "name": "stdout"
        },
        {
          "output_type": "display_data",
          "data": {
            "image/png": "[encoded data removed]",
            "text/plain": [
              "<matplotlib.figure.Figure at 0x7f9585d23b38>"
            ]
          },
          "metadata": {
            "tags": []
          }
        }
      ]
    }
  ]
}